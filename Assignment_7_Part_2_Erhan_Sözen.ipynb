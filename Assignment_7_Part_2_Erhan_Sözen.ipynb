{
  "cells": [
    {
      "cell_type": "markdown",
      "metadata": {
        "id": "view-in-github",
        "colab_type": "text"
      },
      "source": [
        "<a href=\"https://colab.research.google.com/github/erhansozen/Assignments-LearningPortfolio/blob/main/Assignment_7_Part_2_Erhan_S%C3%B6zen.ipynb\" target=\"_parent\"><img src=\"https://colab.research.google.com/assets/colab-badge.svg\" alt=\"Open In Colab\"/></a>"
      ]
    },
    {
      "cell_type": "markdown",
      "metadata": {
        "id": "FmTBpyBmyIVo"
      },
      "source": [
        "The following assignment consists again of a theoretical part (learning portfolio) and a practical part (assignment). The goal is to train a neural model for a recommendation system.\n",
        "\n",
        "The plan would be that in the first week we will discuss your learnings from the theory part, that means you are relatively free to fill your Learning Portfolio on this topic and in the following week we will discuss your solutions of the practical part.\n",
        "\n",
        "#Theory part (filling your Learning Portfolio, June 7)\n",
        "\n",
        "In preparation for the practical part, I ask you to familiarize yourself with the following video sources in the next week:\n",
        "\n",
        "1) Please watch the following videos:\n",
        "\n",
        "https://www.youtube.com/watch?v=Fmtorg_dmM0&ab_channel=ritvikmath (not absolutely necessary, only for the overview)\n",
        "\n",
        "https://course.fast.ai/Lessons/lesson7.html (The second part of the presentation starting with the topic collaborative filtering is mandatory)\n",
        "\n",
        "Note: The first part of the video mainly contains tips for neural networks to submit a Kaggle Competition. For that, you would have to watch the end of the 6th video to understand this better. But this is not mandatory.\n",
        "\n",
        "2) Please download the following notebooks and edit it in Google-Colab. Try to answer a few questions that are asked at the end. Take notes and update your Learning Portfolio.\n",
        "\n",
        "https://www.kaggle.com/code/jhoward/collaborative-filtering-deep-dive/notebook\n",
        "\n",
        "\n",
        "#Practical part (Assignment, June 14)\n",
        "\n",
        "Find any data set that can be used for a recommender system and try to train and validate a neural network for it.\n",
        "\n",
        "For this purpose I ask you to download a data set from the given lists and to use it for your program application.\n",
        "\n",
        "https://gist.github.com/entaroadun/1653794\n",
        "\n",
        "https://github.com/caserec/Datasets-for-Recommender-Systems\n",
        "\n",
        "https://grouplens.org/datasets/movielens/\n",
        "\n",
        "https://eigentaste.berkeley.edu/dataset/"
      ]
    },
    {
      "cell_type": "code",
      "execution_count": null,
      "metadata": {
        "colab": {
          "background_save": true,
          "base_uri": "https://localhost:8080/"
        },
        "id": "e2G0Jw_ByGvc",
        "outputId": "69b2bb0a-53a9-4b14-ed30-f7cce91dc13e"
      },
      "outputs": [
        {
          "name": "stdout",
          "output_type": "stream",
          "text": [
            "Drive already mounted at /content/drive; to attempt to forcibly remount, call drive.mount(\"/content/drive\", force_remount=True).\n",
            "Epoch 1/2\n",
            "312502/312502 [==============================] - 6317s 20ms/step - loss: 0.9556\n",
            "Epoch 2/2\n",
            "312502/312502 [==============================] - 6850s 22ms/step - loss: 0.9260\n",
            "156251/156251 [==============================] - 232s 1ms/step - loss: 0.9258\n",
            "Mean Squared Error: 0.9257540702819824\n"
          ]
        }
      ],
      "source": [
        "import numpy as np\n",
        "import pandas as pd\n",
        "from sklearn.model_selection import train_test_split\n",
        "from sklearn.preprocessing import LabelEncoder\n",
        "from tensorflow.keras.models import Model\n",
        "from tensorflow.keras.layers import Input, Embedding, Flatten, Dense, Dropout\n",
        "from google.colab import drive #allows us to reach our google drive\n",
        "drive.mount('/content/drive')\n",
        "\n",
        "# Veri setini yükle/ Dataset upload\n",
        "movies = pd.read_csv('/content/drive/MyDrive/Colab_Notebooks/movies.csv')\n",
        "ratings = pd.read_csv('/content/drive/MyDrive/Colab_Notebooks/ratings.csv')\n",
        "\n",
        "# İlgili özellikleri seç / Related columns of dataset\n",
        "movies = movies[['movieId', 'title']]\n",
        "ratings = ratings[['userId', 'movieId', 'rating']]\n",
        "\n",
        "# LabelEncoder kullanarak kullanıcı ve film kimliklerini dönüştür / user and movie ID's transforming by label encoder\n",
        "user_encoder = LabelEncoder()\n",
        "movie_encoder = LabelEncoder()\n",
        "ratings['userId'] = user_encoder.fit_transform(ratings['userId'])\n",
        "ratings['movieId'] = movie_encoder.fit_transform(ratings['movieId'])\n",
        "\n",
        "# Veri setini eğitim ve test olarak böle / Train and test data set splitting\n",
        "train, test = train_test_split(ratings, test_size=0.2, random_state=42)\n",
        "\n",
        "# Giriş katmanı / Input layer\n",
        "user_input = Input(shape=(1,))\n",
        "movie_input = Input(shape=(1,))\n",
        "\n",
        "# Kullanıcıları ve filmleri temsil etmek için gömme katmanları / Embedding layers to represent users and movies\n",
        "user_embedding = Embedding(input_dim=len(user_encoder.classes_), output_dim=10)(user_input)\n",
        "movie_embedding = Embedding(input_dim=len(movie_encoder.classes_), output_dim=10)(movie_input)\n",
        "\n",
        "# Gömme vektörlerini düzleştir / flatting of user and movies vectors\n",
        "user_flat = Flatten()(user_embedding)\n",
        "movie_flat = Flatten()(movie_embedding)\n",
        "\n",
        "# Özniteliklerin birleştiği gizli katmanlar / Hidden layers where the features merging\n",
        "hidden = Dense(64, activation='relu')(user_flat)\n",
        "hidden = Dropout(0.2)(hidden)\n",
        "hidden = Dense(32, activation='relu')(hidden)\n",
        "hidden = Dropout(0.2)(hidden)\n",
        "\n",
        "# Tahmin katmanı / Estimation layer\n",
        "output = Dense(1, activation='linear')(hidden)\n",
        "\n",
        "# Modeli oluştur / Model creating\n",
        "model = Model(inputs=[user_input, movie_input], outputs=output)\n",
        "model.compile(loss='mean_squared_error', optimizer='adam')\n",
        "\n",
        "# Modeli eğit / Model training (I chose the 2 epochs to quicker training time :'))\n",
        "model.fit([train['userId'], train['movieId']], train['rating'], batch_size=64, epochs=2, verbose=1)\n",
        "\n",
        "# Test veri seti üzerinde performansı değerlendir / Evaluation of performance on test dataset\n",
        "mse = model.evaluate([test['userId'], test['movieId']], test['rating'])\n",
        "print(\"Mean Squared Error:\", mse)\n"
      ]
    }
  ],
  "metadata": {
    "colab": {
      "provenance": [],
      "include_colab_link": true
    },
    "kernelspec": {
      "display_name": "Python 3",
      "name": "python3"
    },
    "language_info": {
      "name": "python"
    }
  },
  "nbformat": 4,
  "nbformat_minor": 0
}